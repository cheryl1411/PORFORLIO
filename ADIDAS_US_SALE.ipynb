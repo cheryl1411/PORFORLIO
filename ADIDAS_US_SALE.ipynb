{
  "nbformat": 4,
  "nbformat_minor": 0,
  "metadata": {
    "colab": {
      "provenance": [],
      "toc_visible": true,
      "mount_file_id": "1qKYbRUtndZS45-8le6p2-LO04D0QvdDN",
      "authorship_tag": "ABX9TyMQx/ow+khhsraqoJPnVYPC",
      "include_colab_link": true
    },
    "kernelspec": {
      "name": "python3",
      "display_name": "Python 3"
    },
    "language_info": {
      "name": "python"
    }
  },
  "cells": [
    {
      "cell_type": "markdown",
      "metadata": {
        "id": "view-in-github",
        "colab_type": "text"
      },
      "source": [
        "<a href=\"https://colab.research.google.com/github/cheryl1411/PORFORLIO/blob/main/ADIDAS_US_SALE.ipynb\" target=\"_parent\"><img src=\"https://colab.research.google.com/assets/colab-badge.svg\" alt=\"Open In Colab\"/></a>"
      ]
    },
    {
      "cell_type": "markdown",
      "source": [
        "# ADIDAS US SALES- DATA ANALYSIS PROJECT\n"
      ],
      "metadata": {
        "id": "vINiBQJejzdq"
      }
    },
    {
      "cell_type": "markdown",
      "source": [
        "About Dataset\n",
        "An Adidas sales dataset is a collection of data that includes information on the sales of Adidas products. This type of dataset may include details such as the number of units sold, the total sales revenue, the location of the sales, the type of product sold, and any other relevant information.\n",
        "\n",
        "Adidas sales data can be useful for a variety of purposes, such as analyzing sales trends, identifying successful products or marketing campaigns, and developing strategies for future sales. It can also be used to compare Adidas sales to those of competitors, or to analyze the effectiveness of different marketing or sales channels.\n",
        "\n",
        "There are a variety of sources that could potentially provide an Adidas sales dataset, including Adidas itself, market research firms, government agencies, or other organizations that track sales data. The specific data points included in an Adidas sales dataset may vary depending on the source and the purpose for which it is being used."
      ],
      "metadata": {
        "id": "lzYjkeXLkW-R"
      }
    },
    {
      "cell_type": "markdown",
      "source": [
        "## CONTENT"
      ],
      "metadata": {
        "id": "K_8SvNvjkFCZ"
      }
    },
    {
      "cell_type": "markdown",
      "source": [
        "### 1. PROJECT OBJECTIVE:\n",
        "\n",
        "\n",
        "\n",
        "> Overall analysis\n",
        "\n",
        "\n",
        "*   Analyzing Sales trend in 2020 - 2021? Increase or decrease?\n",
        "*   Total Sales and Revenue in area 2020 and 2021.\n",
        "*   Which Retailer brought the most profit in 2020, 2021?\n",
        "\n",
        "\n",
        "> detail analysis:\n",
        "- identify successful product\n",
        "- identify operating margin in store and outlet.\n",
        "\n",
        "\n",
        "\n",
        "\n",
        "\n",
        "\n"
      ],
      "metadata": {
        "id": "OyABOwLNkrnp"
      }
    },
    {
      "cell_type": "markdown",
      "source": [
        "## IMPORT LIBRARIES"
      ],
      "metadata": {
        "id": "XL4YOXE7vAvH"
      }
    },
    {
      "cell_type": "code",
      "source": [
        "import matplotlib.pyplot as plt\n",
        "import numpy as np\n",
        "import folium\n",
        "import plotly.express as px\n",
        "import geopandas as gpd\n",
        "import pandas as pd\n",
        "\n"
      ],
      "metadata": {
        "id": "PC6FXdzUyBpu"
      },
      "execution_count": 57,
      "outputs": []
    },
    {
      "cell_type": "markdown",
      "source": [
        "## UNDERSTANDING DATA:\n"
      ],
      "metadata": {
        "id": "9C1DTcq-xni7"
      }
    },
    {
      "cell_type": "code",
      "source": [
        "adidas=pd.read_excel(\"/content/drive/MyDrive/file/Adidas US.xlsx\")\n",
        "adidas\n"
      ],
      "metadata": {
        "colab": {
          "base_uri": "https://localhost:8080/",
          "height": 424
        },
        "id": "-RSH9lw6Ra7o",
        "outputId": "0f48a35f-2502-4414-f3a4-600cbcaaba73"
      },
      "execution_count": 56,
      "outputs": [
        {
          "output_type": "execute_result",
          "data": {
            "text/plain": [
              "         Retailer  Retailer ID Invoice Date     Region          State  \\\n",
              "0     Foot Locker      1185732   2020-01-01  Northeast       New York   \n",
              "1     Foot Locker      1185732   2020-01-02  Northeast       New York   \n",
              "2     Foot Locker      1185732   2020-01-03  Northeast       New York   \n",
              "3     Foot Locker      1185732   2020-01-04  Northeast       New York   \n",
              "4     Foot Locker      1185732   2020-01-05  Northeast       New York   \n",
              "...           ...          ...          ...        ...            ...   \n",
              "9643  Foot Locker      1185732   2021-01-24  Northeast  New Hampshire   \n",
              "9644  Foot Locker      1185732   2021-01-24  Northeast  New Hampshire   \n",
              "9645  Foot Locker      1185732   2021-02-22  Northeast  New Hampshire   \n",
              "9646  Foot Locker      1185732   2021-02-22  Northeast  New Hampshire   \n",
              "9647  Foot Locker      1185732   2021-02-22  Northeast  New Hampshire   \n",
              "\n",
              "            City                    Product  Price per Unit  Units Sold  \\\n",
              "0       New York      Men's Street Footwear            50.0        1200   \n",
              "1       New York    Men's Athletic Footwear            50.0        1000   \n",
              "2       New York    Women's Street Footwear            40.0        1000   \n",
              "3       New York  Women's Athletic Footwear            45.0         850   \n",
              "4       New York              Men's Apparel            60.0         900   \n",
              "...          ...                        ...             ...         ...   \n",
              "9643  Manchester              Men's Apparel            50.0          64   \n",
              "9644  Manchester            Women's Apparel            41.0         105   \n",
              "9645  Manchester      Men's Street Footwear            41.0         184   \n",
              "9646  Manchester    Men's Athletic Footwear            42.0          70   \n",
              "9647  Manchester    Women's Street Footwear            29.0          83   \n",
              "\n",
              "      Total Sales  Operating Profit  Operating Margin Sales Method  \n",
              "0        600000.0         300000.00              0.50     In-store  \n",
              "1        500000.0         150000.00              0.30     In-store  \n",
              "2        400000.0         140000.00              0.35     In-store  \n",
              "3        382500.0         133875.00              0.35     In-store  \n",
              "4        540000.0         162000.00              0.30     In-store  \n",
              "...           ...               ...               ...          ...  \n",
              "9643       3200.0            896.00              0.28       Outlet  \n",
              "9644       4305.0           1377.60              0.32       Outlet  \n",
              "9645       7544.0           2791.28              0.37       Outlet  \n",
              "9646       2940.0           1234.80              0.42       Outlet  \n",
              "9647       2407.0            649.89              0.27       Outlet  \n",
              "\n",
              "[9648 rows x 13 columns]"
            ],
            "text/html": [
              "\n",
              "  <div id=\"df-b70b5fe7-5243-46fb-97a9-42465ed5c61c\" class=\"colab-df-container\">\n",
              "    <div>\n",
              "<style scoped>\n",
              "    .dataframe tbody tr th:only-of-type {\n",
              "        vertical-align: middle;\n",
              "    }\n",
              "\n",
              "    .dataframe tbody tr th {\n",
              "        vertical-align: top;\n",
              "    }\n",
              "\n",
              "    .dataframe thead th {\n",
              "        text-align: right;\n",
              "    }\n",
              "</style>\n",
              "<table border=\"1\" class=\"dataframe\">\n",
              "  <thead>\n",
              "    <tr style=\"text-align: right;\">\n",
              "      <th></th>\n",
              "      <th>Retailer</th>\n",
              "      <th>Retailer ID</th>\n",
              "      <th>Invoice Date</th>\n",
              "      <th>Region</th>\n",
              "      <th>State</th>\n",
              "      <th>City</th>\n",
              "      <th>Product</th>\n",
              "      <th>Price per Unit</th>\n",
              "      <th>Units Sold</th>\n",
              "      <th>Total Sales</th>\n",
              "      <th>Operating Profit</th>\n",
              "      <th>Operating Margin</th>\n",
              "      <th>Sales Method</th>\n",
              "    </tr>\n",
              "  </thead>\n",
              "  <tbody>\n",
              "    <tr>\n",
              "      <th>0</th>\n",
              "      <td>Foot Locker</td>\n",
              "      <td>1185732</td>\n",
              "      <td>2020-01-01</td>\n",
              "      <td>Northeast</td>\n",
              "      <td>New York</td>\n",
              "      <td>New York</td>\n",
              "      <td>Men's Street Footwear</td>\n",
              "      <td>50.0</td>\n",
              "      <td>1200</td>\n",
              "      <td>600000.0</td>\n",
              "      <td>300000.00</td>\n",
              "      <td>0.50</td>\n",
              "      <td>In-store</td>\n",
              "    </tr>\n",
              "    <tr>\n",
              "      <th>1</th>\n",
              "      <td>Foot Locker</td>\n",
              "      <td>1185732</td>\n",
              "      <td>2020-01-02</td>\n",
              "      <td>Northeast</td>\n",
              "      <td>New York</td>\n",
              "      <td>New York</td>\n",
              "      <td>Men's Athletic Footwear</td>\n",
              "      <td>50.0</td>\n",
              "      <td>1000</td>\n",
              "      <td>500000.0</td>\n",
              "      <td>150000.00</td>\n",
              "      <td>0.30</td>\n",
              "      <td>In-store</td>\n",
              "    </tr>\n",
              "    <tr>\n",
              "      <th>2</th>\n",
              "      <td>Foot Locker</td>\n",
              "      <td>1185732</td>\n",
              "      <td>2020-01-03</td>\n",
              "      <td>Northeast</td>\n",
              "      <td>New York</td>\n",
              "      <td>New York</td>\n",
              "      <td>Women's Street Footwear</td>\n",
              "      <td>40.0</td>\n",
              "      <td>1000</td>\n",
              "      <td>400000.0</td>\n",
              "      <td>140000.00</td>\n",
              "      <td>0.35</td>\n",
              "      <td>In-store</td>\n",
              "    </tr>\n",
              "    <tr>\n",
              "      <th>3</th>\n",
              "      <td>Foot Locker</td>\n",
              "      <td>1185732</td>\n",
              "      <td>2020-01-04</td>\n",
              "      <td>Northeast</td>\n",
              "      <td>New York</td>\n",
              "      <td>New York</td>\n",
              "      <td>Women's Athletic Footwear</td>\n",
              "      <td>45.0</td>\n",
              "      <td>850</td>\n",
              "      <td>382500.0</td>\n",
              "      <td>133875.00</td>\n",
              "      <td>0.35</td>\n",
              "      <td>In-store</td>\n",
              "    </tr>\n",
              "    <tr>\n",
              "      <th>4</th>\n",
              "      <td>Foot Locker</td>\n",
              "      <td>1185732</td>\n",
              "      <td>2020-01-05</td>\n",
              "      <td>Northeast</td>\n",
              "      <td>New York</td>\n",
              "      <td>New York</td>\n",
              "      <td>Men's Apparel</td>\n",
              "      <td>60.0</td>\n",
              "      <td>900</td>\n",
              "      <td>540000.0</td>\n",
              "      <td>162000.00</td>\n",
              "      <td>0.30</td>\n",
              "      <td>In-store</td>\n",
              "    </tr>\n",
              "    <tr>\n",
              "      <th>...</th>\n",
              "      <td>...</td>\n",
              "      <td>...</td>\n",
              "      <td>...</td>\n",
              "      <td>...</td>\n",
              "      <td>...</td>\n",
              "      <td>...</td>\n",
              "      <td>...</td>\n",
              "      <td>...</td>\n",
              "      <td>...</td>\n",
              "      <td>...</td>\n",
              "      <td>...</td>\n",
              "      <td>...</td>\n",
              "      <td>...</td>\n",
              "    </tr>\n",
              "    <tr>\n",
              "      <th>9643</th>\n",
              "      <td>Foot Locker</td>\n",
              "      <td>1185732</td>\n",
              "      <td>2021-01-24</td>\n",
              "      <td>Northeast</td>\n",
              "      <td>New Hampshire</td>\n",
              "      <td>Manchester</td>\n",
              "      <td>Men's Apparel</td>\n",
              "      <td>50.0</td>\n",
              "      <td>64</td>\n",
              "      <td>3200.0</td>\n",
              "      <td>896.00</td>\n",
              "      <td>0.28</td>\n",
              "      <td>Outlet</td>\n",
              "    </tr>\n",
              "    <tr>\n",
              "      <th>9644</th>\n",
              "      <td>Foot Locker</td>\n",
              "      <td>1185732</td>\n",
              "      <td>2021-01-24</td>\n",
              "      <td>Northeast</td>\n",
              "      <td>New Hampshire</td>\n",
              "      <td>Manchester</td>\n",
              "      <td>Women's Apparel</td>\n",
              "      <td>41.0</td>\n",
              "      <td>105</td>\n",
              "      <td>4305.0</td>\n",
              "      <td>1377.60</td>\n",
              "      <td>0.32</td>\n",
              "      <td>Outlet</td>\n",
              "    </tr>\n",
              "    <tr>\n",
              "      <th>9645</th>\n",
              "      <td>Foot Locker</td>\n",
              "      <td>1185732</td>\n",
              "      <td>2021-02-22</td>\n",
              "      <td>Northeast</td>\n",
              "      <td>New Hampshire</td>\n",
              "      <td>Manchester</td>\n",
              "      <td>Men's Street Footwear</td>\n",
              "      <td>41.0</td>\n",
              "      <td>184</td>\n",
              "      <td>7544.0</td>\n",
              "      <td>2791.28</td>\n",
              "      <td>0.37</td>\n",
              "      <td>Outlet</td>\n",
              "    </tr>\n",
              "    <tr>\n",
              "      <th>9646</th>\n",
              "      <td>Foot Locker</td>\n",
              "      <td>1185732</td>\n",
              "      <td>2021-02-22</td>\n",
              "      <td>Northeast</td>\n",
              "      <td>New Hampshire</td>\n",
              "      <td>Manchester</td>\n",
              "      <td>Men's Athletic Footwear</td>\n",
              "      <td>42.0</td>\n",
              "      <td>70</td>\n",
              "      <td>2940.0</td>\n",
              "      <td>1234.80</td>\n",
              "      <td>0.42</td>\n",
              "      <td>Outlet</td>\n",
              "    </tr>\n",
              "    <tr>\n",
              "      <th>9647</th>\n",
              "      <td>Foot Locker</td>\n",
              "      <td>1185732</td>\n",
              "      <td>2021-02-22</td>\n",
              "      <td>Northeast</td>\n",
              "      <td>New Hampshire</td>\n",
              "      <td>Manchester</td>\n",
              "      <td>Women's Street Footwear</td>\n",
              "      <td>29.0</td>\n",
              "      <td>83</td>\n",
              "      <td>2407.0</td>\n",
              "      <td>649.89</td>\n",
              "      <td>0.27</td>\n",
              "      <td>Outlet</td>\n",
              "    </tr>\n",
              "  </tbody>\n",
              "</table>\n",
              "<p>9648 rows × 13 columns</p>\n",
              "</div>\n",
              "    <div class=\"colab-df-buttons\">\n",
              "\n",
              "  <div class=\"colab-df-container\">\n",
              "    <button class=\"colab-df-convert\" onclick=\"convertToInteractive('df-b70b5fe7-5243-46fb-97a9-42465ed5c61c')\"\n",
              "            title=\"Convert this dataframe to an interactive table.\"\n",
              "            style=\"display:none;\">\n",
              "\n",
              "  <svg xmlns=\"http://www.w3.org/2000/svg\" height=\"24px\" viewBox=\"0 -960 960 960\">\n",
              "    <path d=\"M120-120v-720h720v720H120Zm60-500h600v-160H180v160Zm220 220h160v-160H400v160Zm0 220h160v-160H400v160ZM180-400h160v-160H180v160Zm440 0h160v-160H620v160ZM180-180h160v-160H180v160Zm440 0h160v-160H620v160Z\"/>\n",
              "  </svg>\n",
              "    </button>\n",
              "\n",
              "  <style>\n",
              "    .colab-df-container {\n",
              "      display:flex;\n",
              "      gap: 12px;\n",
              "    }\n",
              "\n",
              "    .colab-df-convert {\n",
              "      background-color: #E8F0FE;\n",
              "      border: none;\n",
              "      border-radius: 50%;\n",
              "      cursor: pointer;\n",
              "      display: none;\n",
              "      fill: #1967D2;\n",
              "      height: 32px;\n",
              "      padding: 0 0 0 0;\n",
              "      width: 32px;\n",
              "    }\n",
              "\n",
              "    .colab-df-convert:hover {\n",
              "      background-color: #E2EBFA;\n",
              "      box-shadow: 0px 1px 2px rgba(60, 64, 67, 0.3), 0px 1px 3px 1px rgba(60, 64, 67, 0.15);\n",
              "      fill: #174EA6;\n",
              "    }\n",
              "\n",
              "    .colab-df-buttons div {\n",
              "      margin-bottom: 4px;\n",
              "    }\n",
              "\n",
              "    [theme=dark] .colab-df-convert {\n",
              "      background-color: #3B4455;\n",
              "      fill: #D2E3FC;\n",
              "    }\n",
              "\n",
              "    [theme=dark] .colab-df-convert:hover {\n",
              "      background-color: #434B5C;\n",
              "      box-shadow: 0px 1px 3px 1px rgba(0, 0, 0, 0.15);\n",
              "      filter: drop-shadow(0px 1px 2px rgba(0, 0, 0, 0.3));\n",
              "      fill: #FFFFFF;\n",
              "    }\n",
              "  </style>\n",
              "\n",
              "    <script>\n",
              "      const buttonEl =\n",
              "        document.querySelector('#df-b70b5fe7-5243-46fb-97a9-42465ed5c61c button.colab-df-convert');\n",
              "      buttonEl.style.display =\n",
              "        google.colab.kernel.accessAllowed ? 'block' : 'none';\n",
              "\n",
              "      async function convertToInteractive(key) {\n",
              "        const element = document.querySelector('#df-b70b5fe7-5243-46fb-97a9-42465ed5c61c');\n",
              "        const dataTable =\n",
              "          await google.colab.kernel.invokeFunction('convertToInteractive',\n",
              "                                                    [key], {});\n",
              "        if (!dataTable) return;\n",
              "\n",
              "        const docLinkHtml = 'Like what you see? Visit the ' +\n",
              "          '<a target=\"_blank\" href=https://colab.research.google.com/notebooks/data_table.ipynb>data table notebook</a>'\n",
              "          + ' to learn more about interactive tables.';\n",
              "        element.innerHTML = '';\n",
              "        dataTable['output_type'] = 'display_data';\n",
              "        await google.colab.output.renderOutput(dataTable, element);\n",
              "        const docLink = document.createElement('div');\n",
              "        docLink.innerHTML = docLinkHtml;\n",
              "        element.appendChild(docLink);\n",
              "      }\n",
              "    </script>\n",
              "  </div>\n",
              "\n",
              "\n",
              "<div id=\"df-5c709c33-7618-4c74-8c3d-09317b0c7179\">\n",
              "  <button class=\"colab-df-quickchart\" onclick=\"quickchart('df-5c709c33-7618-4c74-8c3d-09317b0c7179')\"\n",
              "            title=\"Suggest charts.\"\n",
              "            style=\"display:none;\">\n",
              "\n",
              "<svg xmlns=\"http://www.w3.org/2000/svg\" height=\"24px\"viewBox=\"0 0 24 24\"\n",
              "     width=\"24px\">\n",
              "    <g>\n",
              "        <path d=\"M19 3H5c-1.1 0-2 .9-2 2v14c0 1.1.9 2 2 2h14c1.1 0 2-.9 2-2V5c0-1.1-.9-2-2-2zM9 17H7v-7h2v7zm4 0h-2V7h2v10zm4 0h-2v-4h2v4z\"/>\n",
              "    </g>\n",
              "</svg>\n",
              "  </button>\n",
              "\n",
              "<style>\n",
              "  .colab-df-quickchart {\n",
              "    background-color: #E8F0FE;\n",
              "    border: none;\n",
              "    border-radius: 50%;\n",
              "    cursor: pointer;\n",
              "    display: none;\n",
              "    fill: #1967D2;\n",
              "    height: 32px;\n",
              "    padding: 0 0 0 0;\n",
              "    width: 32px;\n",
              "  }\n",
              "\n",
              "  .colab-df-quickchart:hover {\n",
              "    background-color: #E2EBFA;\n",
              "    box-shadow: 0px 1px 2px rgba(60, 64, 67, 0.3), 0px 1px 3px 1px rgba(60, 64, 67, 0.15);\n",
              "    fill: #174EA6;\n",
              "  }\n",
              "\n",
              "  [theme=dark] .colab-df-quickchart {\n",
              "    background-color: #3B4455;\n",
              "    fill: #D2E3FC;\n",
              "  }\n",
              "\n",
              "  [theme=dark] .colab-df-quickchart:hover {\n",
              "    background-color: #434B5C;\n",
              "    box-shadow: 0px 1px 3px 1px rgba(0, 0, 0, 0.15);\n",
              "    filter: drop-shadow(0px 1px 2px rgba(0, 0, 0, 0.3));\n",
              "    fill: #FFFFFF;\n",
              "  }\n",
              "</style>\n",
              "\n",
              "  <script>\n",
              "    async function quickchart(key) {\n",
              "      const charts = await google.colab.kernel.invokeFunction(\n",
              "          'suggestCharts', [key], {});\n",
              "    }\n",
              "    (() => {\n",
              "      let quickchartButtonEl =\n",
              "        document.querySelector('#df-5c709c33-7618-4c74-8c3d-09317b0c7179 button');\n",
              "      quickchartButtonEl.style.display =\n",
              "        google.colab.kernel.accessAllowed ? 'block' : 'none';\n",
              "    })();\n",
              "  </script>\n",
              "</div>\n",
              "    </div>\n",
              "  </div>\n"
            ]
          },
          "metadata": {},
          "execution_count": 56
        }
      ]
    },
    {
      "cell_type": "code",
      "source": [
        "adidas.info()"
      ],
      "metadata": {
        "colab": {
          "base_uri": "https://localhost:8080/"
        },
        "id": "CpgYKIaJz8oO",
        "outputId": "db77645a-2201-40e4-ce4d-cfccb0366548"
      },
      "execution_count": null,
      "outputs": [
        {
          "output_type": "stream",
          "name": "stdout",
          "text": [
            "<class 'pandas.core.frame.DataFrame'>\n",
            "RangeIndex: 9648 entries, 0 to 9647\n",
            "Data columns (total 13 columns):\n",
            " #   Column            Non-Null Count  Dtype         \n",
            "---  ------            --------------  -----         \n",
            " 0   Retailer          9648 non-null   object        \n",
            " 1   Retailer ID       9648 non-null   int64         \n",
            " 2   Invoice Date      9648 non-null   datetime64[ns]\n",
            " 3   Region            9648 non-null   object        \n",
            " 4   State             9648 non-null   object        \n",
            " 5   City              9648 non-null   object        \n",
            " 6   Product           9648 non-null   object        \n",
            " 7   Price per Unit    9648 non-null   float64       \n",
            " 8   Units Sold        9648 non-null   int64         \n",
            " 9   Total Sales       9648 non-null   float64       \n",
            " 10  Operating Profit  9648 non-null   float64       \n",
            " 11  Operating Margin  9648 non-null   float64       \n",
            " 12  Sales Method      9648 non-null   object        \n",
            "dtypes: datetime64[ns](1), float64(4), int64(2), object(6)\n",
            "memory usage: 980.0+ KB\n"
          ]
        }
      ]
    },
    {
      "cell_type": "code",
      "source": [
        "adidas.describe()"
      ],
      "metadata": {
        "colab": {
          "base_uri": "https://localhost:8080/",
          "height": 300
        },
        "id": "VD2C2DYy0D_R",
        "outputId": "6775848d-0e6d-4d4b-ae74-2acabc4a8bc0"
      },
      "execution_count": null,
      "outputs": [
        {
          "output_type": "execute_result",
          "data": {
            "text/plain": [
              "        Retailer ID  Price per Unit   Units Sold    Total Sales  \\\n",
              "count  9.648000e+03     9648.000000  9648.000000    9648.000000   \n",
              "mean   1.173850e+06       45.216625   256.930037   93273.437500   \n",
              "std    2.636038e+04       14.705397   214.252030  141916.016727   \n",
              "min    1.128299e+06        7.000000     0.000000       0.000000   \n",
              "25%    1.185732e+06       35.000000   106.000000    4254.500000   \n",
              "50%    1.185732e+06       45.000000   176.000000    9576.000000   \n",
              "75%    1.185732e+06       55.000000   350.000000  150000.000000   \n",
              "max    1.197831e+06      110.000000  1275.000000  825000.000000   \n",
              "\n",
              "       Operating Profit  Operating Margin  \n",
              "count       9648.000000       9648.000000  \n",
              "mean       34425.244761          0.422991  \n",
              "std        54193.113713          0.097197  \n",
              "min            0.000000          0.100000  \n",
              "25%         1921.752500          0.350000  \n",
              "50%         4371.420000          0.410000  \n",
              "75%        52062.500000          0.490000  \n",
              "max       390000.000000          0.800000  "
            ],
            "text/html": [
              "\n",
              "  <div id=\"df-22083594-82b4-4f1e-9890-03b78b53d418\" class=\"colab-df-container\">\n",
              "    <div>\n",
              "<style scoped>\n",
              "    .dataframe tbody tr th:only-of-type {\n",
              "        vertical-align: middle;\n",
              "    }\n",
              "\n",
              "    .dataframe tbody tr th {\n",
              "        vertical-align: top;\n",
              "    }\n",
              "\n",
              "    .dataframe thead th {\n",
              "        text-align: right;\n",
              "    }\n",
              "</style>\n",
              "<table border=\"1\" class=\"dataframe\">\n",
              "  <thead>\n",
              "    <tr style=\"text-align: right;\">\n",
              "      <th></th>\n",
              "      <th>Retailer ID</th>\n",
              "      <th>Price per Unit</th>\n",
              "      <th>Units Sold</th>\n",
              "      <th>Total Sales</th>\n",
              "      <th>Operating Profit</th>\n",
              "      <th>Operating Margin</th>\n",
              "    </tr>\n",
              "  </thead>\n",
              "  <tbody>\n",
              "    <tr>\n",
              "      <th>count</th>\n",
              "      <td>9.648000e+03</td>\n",
              "      <td>9648.000000</td>\n",
              "      <td>9648.000000</td>\n",
              "      <td>9648.000000</td>\n",
              "      <td>9648.000000</td>\n",
              "      <td>9648.000000</td>\n",
              "    </tr>\n",
              "    <tr>\n",
              "      <th>mean</th>\n",
              "      <td>1.173850e+06</td>\n",
              "      <td>45.216625</td>\n",
              "      <td>256.930037</td>\n",
              "      <td>93273.437500</td>\n",
              "      <td>34425.244761</td>\n",
              "      <td>0.422991</td>\n",
              "    </tr>\n",
              "    <tr>\n",
              "      <th>std</th>\n",
              "      <td>2.636038e+04</td>\n",
              "      <td>14.705397</td>\n",
              "      <td>214.252030</td>\n",
              "      <td>141916.016727</td>\n",
              "      <td>54193.113713</td>\n",
              "      <td>0.097197</td>\n",
              "    </tr>\n",
              "    <tr>\n",
              "      <th>min</th>\n",
              "      <td>1.128299e+06</td>\n",
              "      <td>7.000000</td>\n",
              "      <td>0.000000</td>\n",
              "      <td>0.000000</td>\n",
              "      <td>0.000000</td>\n",
              "      <td>0.100000</td>\n",
              "    </tr>\n",
              "    <tr>\n",
              "      <th>25%</th>\n",
              "      <td>1.185732e+06</td>\n",
              "      <td>35.000000</td>\n",
              "      <td>106.000000</td>\n",
              "      <td>4254.500000</td>\n",
              "      <td>1921.752500</td>\n",
              "      <td>0.350000</td>\n",
              "    </tr>\n",
              "    <tr>\n",
              "      <th>50%</th>\n",
              "      <td>1.185732e+06</td>\n",
              "      <td>45.000000</td>\n",
              "      <td>176.000000</td>\n",
              "      <td>9576.000000</td>\n",
              "      <td>4371.420000</td>\n",
              "      <td>0.410000</td>\n",
              "    </tr>\n",
              "    <tr>\n",
              "      <th>75%</th>\n",
              "      <td>1.185732e+06</td>\n",
              "      <td>55.000000</td>\n",
              "      <td>350.000000</td>\n",
              "      <td>150000.000000</td>\n",
              "      <td>52062.500000</td>\n",
              "      <td>0.490000</td>\n",
              "    </tr>\n",
              "    <tr>\n",
              "      <th>max</th>\n",
              "      <td>1.197831e+06</td>\n",
              "      <td>110.000000</td>\n",
              "      <td>1275.000000</td>\n",
              "      <td>825000.000000</td>\n",
              "      <td>390000.000000</td>\n",
              "      <td>0.800000</td>\n",
              "    </tr>\n",
              "  </tbody>\n",
              "</table>\n",
              "</div>\n",
              "    <div class=\"colab-df-buttons\">\n",
              "\n",
              "  <div class=\"colab-df-container\">\n",
              "    <button class=\"colab-df-convert\" onclick=\"convertToInteractive('df-22083594-82b4-4f1e-9890-03b78b53d418')\"\n",
              "            title=\"Convert this dataframe to an interactive table.\"\n",
              "            style=\"display:none;\">\n",
              "\n",
              "  <svg xmlns=\"http://www.w3.org/2000/svg\" height=\"24px\" viewBox=\"0 -960 960 960\">\n",
              "    <path d=\"M120-120v-720h720v720H120Zm60-500h600v-160H180v160Zm220 220h160v-160H400v160Zm0 220h160v-160H400v160ZM180-400h160v-160H180v160Zm440 0h160v-160H620v160ZM180-180h160v-160H180v160Zm440 0h160v-160H620v160Z\"/>\n",
              "  </svg>\n",
              "    </button>\n",
              "\n",
              "  <style>\n",
              "    .colab-df-container {\n",
              "      display:flex;\n",
              "      gap: 12px;\n",
              "    }\n",
              "\n",
              "    .colab-df-convert {\n",
              "      background-color: #E8F0FE;\n",
              "      border: none;\n",
              "      border-radius: 50%;\n",
              "      cursor: pointer;\n",
              "      display: none;\n",
              "      fill: #1967D2;\n",
              "      height: 32px;\n",
              "      padding: 0 0 0 0;\n",
              "      width: 32px;\n",
              "    }\n",
              "\n",
              "    .colab-df-convert:hover {\n",
              "      background-color: #E2EBFA;\n",
              "      box-shadow: 0px 1px 2px rgba(60, 64, 67, 0.3), 0px 1px 3px 1px rgba(60, 64, 67, 0.15);\n",
              "      fill: #174EA6;\n",
              "    }\n",
              "\n",
              "    .colab-df-buttons div {\n",
              "      margin-bottom: 4px;\n",
              "    }\n",
              "\n",
              "    [theme=dark] .colab-df-convert {\n",
              "      background-color: #3B4455;\n",
              "      fill: #D2E3FC;\n",
              "    }\n",
              "\n",
              "    [theme=dark] .colab-df-convert:hover {\n",
              "      background-color: #434B5C;\n",
              "      box-shadow: 0px 1px 3px 1px rgba(0, 0, 0, 0.15);\n",
              "      filter: drop-shadow(0px 1px 2px rgba(0, 0, 0, 0.3));\n",
              "      fill: #FFFFFF;\n",
              "    }\n",
              "  </style>\n",
              "\n",
              "    <script>\n",
              "      const buttonEl =\n",
              "        document.querySelector('#df-22083594-82b4-4f1e-9890-03b78b53d418 button.colab-df-convert');\n",
              "      buttonEl.style.display =\n",
              "        google.colab.kernel.accessAllowed ? 'block' : 'none';\n",
              "\n",
              "      async function convertToInteractive(key) {\n",
              "        const element = document.querySelector('#df-22083594-82b4-4f1e-9890-03b78b53d418');\n",
              "        const dataTable =\n",
              "          await google.colab.kernel.invokeFunction('convertToInteractive',\n",
              "                                                    [key], {});\n",
              "        if (!dataTable) return;\n",
              "\n",
              "        const docLinkHtml = 'Like what you see? Visit the ' +\n",
              "          '<a target=\"_blank\" href=https://colab.research.google.com/notebooks/data_table.ipynb>data table notebook</a>'\n",
              "          + ' to learn more about interactive tables.';\n",
              "        element.innerHTML = '';\n",
              "        dataTable['output_type'] = 'display_data';\n",
              "        await google.colab.output.renderOutput(dataTable, element);\n",
              "        const docLink = document.createElement('div');\n",
              "        docLink.innerHTML = docLinkHtml;\n",
              "        element.appendChild(docLink);\n",
              "      }\n",
              "    </script>\n",
              "  </div>\n",
              "\n",
              "\n",
              "<div id=\"df-99dab19c-628e-48c6-ab95-d98263b809d1\">\n",
              "  <button class=\"colab-df-quickchart\" onclick=\"quickchart('df-99dab19c-628e-48c6-ab95-d98263b809d1')\"\n",
              "            title=\"Suggest charts.\"\n",
              "            style=\"display:none;\">\n",
              "\n",
              "<svg xmlns=\"http://www.w3.org/2000/svg\" height=\"24px\"viewBox=\"0 0 24 24\"\n",
              "     width=\"24px\">\n",
              "    <g>\n",
              "        <path d=\"M19 3H5c-1.1 0-2 .9-2 2v14c0 1.1.9 2 2 2h14c1.1 0 2-.9 2-2V5c0-1.1-.9-2-2-2zM9 17H7v-7h2v7zm4 0h-2V7h2v10zm4 0h-2v-4h2v4z\"/>\n",
              "    </g>\n",
              "</svg>\n",
              "  </button>\n",
              "\n",
              "<style>\n",
              "  .colab-df-quickchart {\n",
              "    background-color: #E8F0FE;\n",
              "    border: none;\n",
              "    border-radius: 50%;\n",
              "    cursor: pointer;\n",
              "    display: none;\n",
              "    fill: #1967D2;\n",
              "    height: 32px;\n",
              "    padding: 0 0 0 0;\n",
              "    width: 32px;\n",
              "  }\n",
              "\n",
              "  .colab-df-quickchart:hover {\n",
              "    background-color: #E2EBFA;\n",
              "    box-shadow: 0px 1px 2px rgba(60, 64, 67, 0.3), 0px 1px 3px 1px rgba(60, 64, 67, 0.15);\n",
              "    fill: #174EA6;\n",
              "  }\n",
              "\n",
              "  [theme=dark] .colab-df-quickchart {\n",
              "    background-color: #3B4455;\n",
              "    fill: #D2E3FC;\n",
              "  }\n",
              "\n",
              "  [theme=dark] .colab-df-quickchart:hover {\n",
              "    background-color: #434B5C;\n",
              "    box-shadow: 0px 1px 3px 1px rgba(0, 0, 0, 0.15);\n",
              "    filter: drop-shadow(0px 1px 2px rgba(0, 0, 0, 0.3));\n",
              "    fill: #FFFFFF;\n",
              "  }\n",
              "</style>\n",
              "\n",
              "  <script>\n",
              "    async function quickchart(key) {\n",
              "      const charts = await google.colab.kernel.invokeFunction(\n",
              "          'suggestCharts', [key], {});\n",
              "    }\n",
              "    (() => {\n",
              "      let quickchartButtonEl =\n",
              "        document.querySelector('#df-99dab19c-628e-48c6-ab95-d98263b809d1 button');\n",
              "      quickchartButtonEl.style.display =\n",
              "        google.colab.kernel.accessAllowed ? 'block' : 'none';\n",
              "    })();\n",
              "  </script>\n",
              "</div>\n",
              "    </div>\n",
              "  </div>\n"
            ]
          },
          "metadata": {},
          "execution_count": 6
        }
      ]
    },
    {
      "cell_type": "code",
      "source": [
        "adidas.head()"
      ],
      "metadata": {
        "colab": {
          "base_uri": "https://localhost:8080/",
          "height": 206
        },
        "id": "m7T5Zkbu0XSq",
        "outputId": "87d68105-9b54-478a-e18f-6f3cb8ec5f9c"
      },
      "execution_count": null,
      "outputs": [
        {
          "output_type": "execute_result",
          "data": {
            "text/plain": [
              "      Retailer  Retailer ID Invoice Date     Region     State      City  \\\n",
              "0  Foot Locker      1185732   2020-01-01  Northeast  New York  New York   \n",
              "1  Foot Locker      1185732   2020-01-02  Northeast  New York  New York   \n",
              "2  Foot Locker      1185732   2020-01-03  Northeast  New York  New York   \n",
              "3  Foot Locker      1185732   2020-01-04  Northeast  New York  New York   \n",
              "4  Foot Locker      1185732   2020-01-05  Northeast  New York  New York   \n",
              "\n",
              "                     Product  Price per Unit  Units Sold  Total Sales  \\\n",
              "0      Men's Street Footwear            50.0        1200     600000.0   \n",
              "1    Men's Athletic Footwear            50.0        1000     500000.0   \n",
              "2    Women's Street Footwear            40.0        1000     400000.0   \n",
              "3  Women's Athletic Footwear            45.0         850     382500.0   \n",
              "4              Men's Apparel            60.0         900     540000.0   \n",
              "\n",
              "   Operating Profit  Operating Margin Sales Method  \n",
              "0          300000.0              0.50     In-store  \n",
              "1          150000.0              0.30     In-store  \n",
              "2          140000.0              0.35     In-store  \n",
              "3          133875.0              0.35     In-store  \n",
              "4          162000.0              0.30     In-store  "
            ],
            "text/html": [
              "\n",
              "  <div id=\"df-b3b32220-13b7-4387-9744-25452f3a7834\" class=\"colab-df-container\">\n",
              "    <div>\n",
              "<style scoped>\n",
              "    .dataframe tbody tr th:only-of-type {\n",
              "        vertical-align: middle;\n",
              "    }\n",
              "\n",
              "    .dataframe tbody tr th {\n",
              "        vertical-align: top;\n",
              "    }\n",
              "\n",
              "    .dataframe thead th {\n",
              "        text-align: right;\n",
              "    }\n",
              "</style>\n",
              "<table border=\"1\" class=\"dataframe\">\n",
              "  <thead>\n",
              "    <tr style=\"text-align: right;\">\n",
              "      <th></th>\n",
              "      <th>Retailer</th>\n",
              "      <th>Retailer ID</th>\n",
              "      <th>Invoice Date</th>\n",
              "      <th>Region</th>\n",
              "      <th>State</th>\n",
              "      <th>City</th>\n",
              "      <th>Product</th>\n",
              "      <th>Price per Unit</th>\n",
              "      <th>Units Sold</th>\n",
              "      <th>Total Sales</th>\n",
              "      <th>Operating Profit</th>\n",
              "      <th>Operating Margin</th>\n",
              "      <th>Sales Method</th>\n",
              "    </tr>\n",
              "  </thead>\n",
              "  <tbody>\n",
              "    <tr>\n",
              "      <th>0</th>\n",
              "      <td>Foot Locker</td>\n",
              "      <td>1185732</td>\n",
              "      <td>2020-01-01</td>\n",
              "      <td>Northeast</td>\n",
              "      <td>New York</td>\n",
              "      <td>New York</td>\n",
              "      <td>Men's Street Footwear</td>\n",
              "      <td>50.0</td>\n",
              "      <td>1200</td>\n",
              "      <td>600000.0</td>\n",
              "      <td>300000.0</td>\n",
              "      <td>0.50</td>\n",
              "      <td>In-store</td>\n",
              "    </tr>\n",
              "    <tr>\n",
              "      <th>1</th>\n",
              "      <td>Foot Locker</td>\n",
              "      <td>1185732</td>\n",
              "      <td>2020-01-02</td>\n",
              "      <td>Northeast</td>\n",
              "      <td>New York</td>\n",
              "      <td>New York</td>\n",
              "      <td>Men's Athletic Footwear</td>\n",
              "      <td>50.0</td>\n",
              "      <td>1000</td>\n",
              "      <td>500000.0</td>\n",
              "      <td>150000.0</td>\n",
              "      <td>0.30</td>\n",
              "      <td>In-store</td>\n",
              "    </tr>\n",
              "    <tr>\n",
              "      <th>2</th>\n",
              "      <td>Foot Locker</td>\n",
              "      <td>1185732</td>\n",
              "      <td>2020-01-03</td>\n",
              "      <td>Northeast</td>\n",
              "      <td>New York</td>\n",
              "      <td>New York</td>\n",
              "      <td>Women's Street Footwear</td>\n",
              "      <td>40.0</td>\n",
              "      <td>1000</td>\n",
              "      <td>400000.0</td>\n",
              "      <td>140000.0</td>\n",
              "      <td>0.35</td>\n",
              "      <td>In-store</td>\n",
              "    </tr>\n",
              "    <tr>\n",
              "      <th>3</th>\n",
              "      <td>Foot Locker</td>\n",
              "      <td>1185732</td>\n",
              "      <td>2020-01-04</td>\n",
              "      <td>Northeast</td>\n",
              "      <td>New York</td>\n",
              "      <td>New York</td>\n",
              "      <td>Women's Athletic Footwear</td>\n",
              "      <td>45.0</td>\n",
              "      <td>850</td>\n",
              "      <td>382500.0</td>\n",
              "      <td>133875.0</td>\n",
              "      <td>0.35</td>\n",
              "      <td>In-store</td>\n",
              "    </tr>\n",
              "    <tr>\n",
              "      <th>4</th>\n",
              "      <td>Foot Locker</td>\n",
              "      <td>1185732</td>\n",
              "      <td>2020-01-05</td>\n",
              "      <td>Northeast</td>\n",
              "      <td>New York</td>\n",
              "      <td>New York</td>\n",
              "      <td>Men's Apparel</td>\n",
              "      <td>60.0</td>\n",
              "      <td>900</td>\n",
              "      <td>540000.0</td>\n",
              "      <td>162000.0</td>\n",
              "      <td>0.30</td>\n",
              "      <td>In-store</td>\n",
              "    </tr>\n",
              "  </tbody>\n",
              "</table>\n",
              "</div>\n",
              "    <div class=\"colab-df-buttons\">\n",
              "\n",
              "  <div class=\"colab-df-container\">\n",
              "    <button class=\"colab-df-convert\" onclick=\"convertToInteractive('df-b3b32220-13b7-4387-9744-25452f3a7834')\"\n",
              "            title=\"Convert this dataframe to an interactive table.\"\n",
              "            style=\"display:none;\">\n",
              "\n",
              "  <svg xmlns=\"http://www.w3.org/2000/svg\" height=\"24px\" viewBox=\"0 -960 960 960\">\n",
              "    <path d=\"M120-120v-720h720v720H120Zm60-500h600v-160H180v160Zm220 220h160v-160H400v160Zm0 220h160v-160H400v160ZM180-400h160v-160H180v160Zm440 0h160v-160H620v160ZM180-180h160v-160H180v160Zm440 0h160v-160H620v160Z\"/>\n",
              "  </svg>\n",
              "    </button>\n",
              "\n",
              "  <style>\n",
              "    .colab-df-container {\n",
              "      display:flex;\n",
              "      gap: 12px;\n",
              "    }\n",
              "\n",
              "    .colab-df-convert {\n",
              "      background-color: #E8F0FE;\n",
              "      border: none;\n",
              "      border-radius: 50%;\n",
              "      cursor: pointer;\n",
              "      display: none;\n",
              "      fill: #1967D2;\n",
              "      height: 32px;\n",
              "      padding: 0 0 0 0;\n",
              "      width: 32px;\n",
              "    }\n",
              "\n",
              "    .colab-df-convert:hover {\n",
              "      background-color: #E2EBFA;\n",
              "      box-shadow: 0px 1px 2px rgba(60, 64, 67, 0.3), 0px 1px 3px 1px rgba(60, 64, 67, 0.15);\n",
              "      fill: #174EA6;\n",
              "    }\n",
              "\n",
              "    .colab-df-buttons div {\n",
              "      margin-bottom: 4px;\n",
              "    }\n",
              "\n",
              "    [theme=dark] .colab-df-convert {\n",
              "      background-color: #3B4455;\n",
              "      fill: #D2E3FC;\n",
              "    }\n",
              "\n",
              "    [theme=dark] .colab-df-convert:hover {\n",
              "      background-color: #434B5C;\n",
              "      box-shadow: 0px 1px 3px 1px rgba(0, 0, 0, 0.15);\n",
              "      filter: drop-shadow(0px 1px 2px rgba(0, 0, 0, 0.3));\n",
              "      fill: #FFFFFF;\n",
              "    }\n",
              "  </style>\n",
              "\n",
              "    <script>\n",
              "      const buttonEl =\n",
              "        document.querySelector('#df-b3b32220-13b7-4387-9744-25452f3a7834 button.colab-df-convert');\n",
              "      buttonEl.style.display =\n",
              "        google.colab.kernel.accessAllowed ? 'block' : 'none';\n",
              "\n",
              "      async function convertToInteractive(key) {\n",
              "        const element = document.querySelector('#df-b3b32220-13b7-4387-9744-25452f3a7834');\n",
              "        const dataTable =\n",
              "          await google.colab.kernel.invokeFunction('convertToInteractive',\n",
              "                                                    [key], {});\n",
              "        if (!dataTable) return;\n",
              "\n",
              "        const docLinkHtml = 'Like what you see? Visit the ' +\n",
              "          '<a target=\"_blank\" href=https://colab.research.google.com/notebooks/data_table.ipynb>data table notebook</a>'\n",
              "          + ' to learn more about interactive tables.';\n",
              "        element.innerHTML = '';\n",
              "        dataTable['output_type'] = 'display_data';\n",
              "        await google.colab.output.renderOutput(dataTable, element);\n",
              "        const docLink = document.createElement('div');\n",
              "        docLink.innerHTML = docLinkHtml;\n",
              "        element.appendChild(docLink);\n",
              "      }\n",
              "    </script>\n",
              "  </div>\n",
              "\n",
              "\n",
              "<div id=\"df-928369ad-5566-481e-9aca-a7a8ebb21964\">\n",
              "  <button class=\"colab-df-quickchart\" onclick=\"quickchart('df-928369ad-5566-481e-9aca-a7a8ebb21964')\"\n",
              "            title=\"Suggest charts.\"\n",
              "            style=\"display:none;\">\n",
              "\n",
              "<svg xmlns=\"http://www.w3.org/2000/svg\" height=\"24px\"viewBox=\"0 0 24 24\"\n",
              "     width=\"24px\">\n",
              "    <g>\n",
              "        <path d=\"M19 3H5c-1.1 0-2 .9-2 2v14c0 1.1.9 2 2 2h14c1.1 0 2-.9 2-2V5c0-1.1-.9-2-2-2zM9 17H7v-7h2v7zm4 0h-2V7h2v10zm4 0h-2v-4h2v4z\"/>\n",
              "    </g>\n",
              "</svg>\n",
              "  </button>\n",
              "\n",
              "<style>\n",
              "  .colab-df-quickchart {\n",
              "    background-color: #E8F0FE;\n",
              "    border: none;\n",
              "    border-radius: 50%;\n",
              "    cursor: pointer;\n",
              "    display: none;\n",
              "    fill: #1967D2;\n",
              "    height: 32px;\n",
              "    padding: 0 0 0 0;\n",
              "    width: 32px;\n",
              "  }\n",
              "\n",
              "  .colab-df-quickchart:hover {\n",
              "    background-color: #E2EBFA;\n",
              "    box-shadow: 0px 1px 2px rgba(60, 64, 67, 0.3), 0px 1px 3px 1px rgba(60, 64, 67, 0.15);\n",
              "    fill: #174EA6;\n",
              "  }\n",
              "\n",
              "  [theme=dark] .colab-df-quickchart {\n",
              "    background-color: #3B4455;\n",
              "    fill: #D2E3FC;\n",
              "  }\n",
              "\n",
              "  [theme=dark] .colab-df-quickchart:hover {\n",
              "    background-color: #434B5C;\n",
              "    box-shadow: 0px 1px 3px 1px rgba(0, 0, 0, 0.15);\n",
              "    filter: drop-shadow(0px 1px 2px rgba(0, 0, 0, 0.3));\n",
              "    fill: #FFFFFF;\n",
              "  }\n",
              "</style>\n",
              "\n",
              "  <script>\n",
              "    async function quickchart(key) {\n",
              "      const charts = await google.colab.kernel.invokeFunction(\n",
              "          'suggestCharts', [key], {});\n",
              "    }\n",
              "    (() => {\n",
              "      let quickchartButtonEl =\n",
              "        document.querySelector('#df-928369ad-5566-481e-9aca-a7a8ebb21964 button');\n",
              "      quickchartButtonEl.style.display =\n",
              "        google.colab.kernel.accessAllowed ? 'block' : 'none';\n",
              "    })();\n",
              "  </script>\n",
              "</div>\n",
              "    </div>\n",
              "  </div>\n"
            ]
          },
          "metadata": {},
          "execution_count": 8
        }
      ]
    },
    {
      "cell_type": "code",
      "source": [
        "adidas.columns"
      ],
      "metadata": {
        "colab": {
          "base_uri": "https://localhost:8080/"
        },
        "id": "KuY9ibSv0tmH",
        "outputId": "4d3325ee-50a4-4fbf-92ec-570d21fe156f"
      },
      "execution_count": null,
      "outputs": [
        {
          "output_type": "execute_result",
          "data": {
            "text/plain": [
              "Index(['Retailer', 'Retailer ID', 'Invoice Date', 'Region', 'State', 'City',\n",
              "       'Product', 'Price per Unit', 'Units Sold', 'Total Sales',\n",
              "       'Operating Profit', 'Operating Margin', 'Sales Method'],\n",
              "      dtype='object')"
            ]
          },
          "metadata": {},
          "execution_count": 11
        }
      ]
    },
    {
      "cell_type": "code",
      "source": [
        "adidas[\"State\"].unique()"
      ],
      "metadata": {
        "colab": {
          "base_uri": "https://localhost:8080/"
        },
        "id": "-7gSOk__08st",
        "outputId": "9d72b1dc-94a1-4758-fb77-42da58ed9cbc"
      },
      "execution_count": null,
      "outputs": [
        {
          "output_type": "execute_result",
          "data": {
            "text/plain": [
              "array(['New York', 'Texas', 'California', 'Illinois', 'Pennsylvania',\n",
              "       'Nevada', 'Colorado', 'Washington', 'Florida', 'Minnesota',\n",
              "       'Montana', 'Tennessee', 'Nebraska', 'Alabama', 'Maine', 'Alaska',\n",
              "       'Hawaii', 'Wyoming', 'Virginia', 'Michigan', 'Missouri', 'Utah',\n",
              "       'Oregon', 'Louisiana', 'Idaho', 'Arizona', 'New Mexico', 'Georgia',\n",
              "       'South Carolina', 'North Carolina', 'Ohio', 'Kentucky',\n",
              "       'Mississippi', 'Arkansas', 'Oklahoma', 'Kansas', 'South Dakota',\n",
              "       'North Dakota', 'Iowa', 'Wisconsin', 'Indiana', 'West Virginia',\n",
              "       'Maryland', 'Delaware', 'New Jersey', 'Connecticut',\n",
              "       'Rhode Island', 'Massachusetts', 'Vermont', 'New Hampshire'],\n",
              "      dtype=object)"
            ]
          },
          "metadata": {},
          "execution_count": 15
        }
      ]
    },
    {
      "cell_type": "code",
      "source": [
        "adidas[\"State\"].unique()"
      ],
      "metadata": {
        "colab": {
          "base_uri": "https://localhost:8080/"
        },
        "id": "5hUM0v2N1QAj",
        "outputId": "de9e51e4-4f19-4ccd-f1a7-e6e4ab956ac0"
      },
      "execution_count": null,
      "outputs": [
        {
          "output_type": "execute_result",
          "data": {
            "text/plain": [
              "array(['New York', 'Texas', 'California', 'Illinois', 'Pennsylvania',\n",
              "       'Nevada', 'Colorado', 'Washington', 'Florida', 'Minnesota',\n",
              "       'Montana', 'Tennessee', 'Nebraska', 'Alabama', 'Maine', 'Alaska',\n",
              "       'Hawaii', 'Wyoming', 'Virginia', 'Michigan', 'Missouri', 'Utah',\n",
              "       'Oregon', 'Louisiana', 'Idaho', 'Arizona', 'New Mexico', 'Georgia',\n",
              "       'South Carolina', 'North Carolina', 'Ohio', 'Kentucky',\n",
              "       'Mississippi', 'Arkansas', 'Oklahoma', 'Kansas', 'South Dakota',\n",
              "       'North Dakota', 'Iowa', 'Wisconsin', 'Indiana', 'West Virginia',\n",
              "       'Maryland', 'Delaware', 'New Jersey', 'Connecticut',\n",
              "       'Rhode Island', 'Massachusetts', 'Vermont', 'New Hampshire'],\n",
              "      dtype=object)"
            ]
          },
          "metadata": {},
          "execution_count": 69
        }
      ]
    },
    {
      "cell_type": "code",
      "source": [
        "adidas[\"Product\"].value_counts()"
      ],
      "metadata": {
        "colab": {
          "base_uri": "https://localhost:8080/"
        },
        "id": "gHTwyKfg1tmD",
        "outputId": "8ace13a2-8862-45ff-a47d-bdf33a3d0c6e"
      },
      "execution_count": null,
      "outputs": [
        {
          "output_type": "execute_result",
          "data": {
            "text/plain": [
              "Men's Street Footwear        1610\n",
              "Men's Athletic Footwear      1610\n",
              "Women's Street Footwear      1608\n",
              "Women's Apparel              1608\n",
              "Women's Athletic Footwear    1606\n",
              "Men's Apparel                1606\n",
              "Name: Product, dtype: int64"
            ]
          },
          "metadata": {},
          "execution_count": 68
        }
      ]
    },
    {
      "cell_type": "code",
      "source": [
        "adidas[\"Retailer\"].unique()"
      ],
      "metadata": {
        "colab": {
          "base_uri": "https://localhost:8080/"
        },
        "id": "QT4s86CC10l8",
        "outputId": "d3312d14-c30b-40a9-adc5-ac412b88cccc"
      },
      "execution_count": null,
      "outputs": [
        {
          "output_type": "execute_result",
          "data": {
            "text/plain": [
              "array(['Foot Locker', 'Walmart', 'Sports Direct', 'West Gear', \"Kohl's\",\n",
              "       'Amazon'], dtype=object)"
            ]
          },
          "metadata": {},
          "execution_count": 19
        }
      ]
    },
    {
      "cell_type": "code",
      "source": [
        "adidas[\"Product\"].unique()"
      ],
      "metadata": {
        "colab": {
          "base_uri": "https://localhost:8080/"
        },
        "id": "fzJz9D732Mja",
        "outputId": "06887040-60b3-42df-ec8c-d7008c006329"
      },
      "execution_count": null,
      "outputs": [
        {
          "output_type": "execute_result",
          "data": {
            "text/plain": [
              "array([\"Men's Street Footwear\", \"Men's Athletic Footwear\",\n",
              "       \"Women's Street Footwear\", \"Women's Athletic Footwear\",\n",
              "       \"Men's Apparel\", \"Women's Apparel\"], dtype=object)"
            ]
          },
          "metadata": {},
          "execution_count": 20
        }
      ]
    },
    {
      "cell_type": "markdown",
      "source": [
        "## DATA MANIPULATION"
      ],
      "metadata": {
        "id": "rQp0YFPTAwfD"
      }
    },
    {
      "cell_type": "code",
      "source": [
        "#Manupilate data for each year:\n",
        "#2020:\n",
        "adidas[\"Invoice Date\"] = pd.to_datetime(adidas[\"Invoice Date\"], format=\"%d/%m/%Y\")\n",
        "\n",
        "#2021:\n",
        "adidas[\"Invoice Date\"] = pd.to_datetime(adidas[\"Invoice Date\"], format=\"%d/%m/%Y\")\n"
      ],
      "metadata": {
        "id": "5X7B_Em8p_pO"
      },
      "execution_count": 4,
      "outputs": []
    },
    {
      "cell_type": "markdown",
      "source": [
        "### Analyzing Sales trend in 2020 - 2021? Increase or decrease?"
      ],
      "metadata": {
        "id": "8MtJ8C89Sd30"
      }
    },
    {
      "cell_type": "code",
      "source": [
        "#total sale 2020:\n",
        "sales_2020 = adidas[adidas[\"Invoice Date\"].dt.year == 2020]\n",
        "total_sales_2020 = sales_2020[\"Total Sales\"].sum()\n",
        "total_sales_2020"
      ],
      "metadata": {
        "colab": {
          "base_uri": "https://localhost:8080/"
        },
        "id": "_VHdE2v62W1W",
        "outputId": "b0c97d58-65a0-48d7-cce0-c0441a58130c"
      },
      "execution_count": 5,
      "outputs": [
        {
          "output_type": "execute_result",
          "data": {
            "text/plain": [
              "182080675.0"
            ]
          },
          "metadata": {},
          "execution_count": 5
        }
      ]
    },
    {
      "cell_type": "code",
      "source": [
        "#total sale 2021:\n",
        "sales_2021 = adidas[adidas[\"Invoice Date\"].dt.year == 2021]\n",
        "total_sales_2021 = sales_2021[\"Total Sales\"].sum()\n",
        "total_sales_2021"
      ],
      "metadata": {
        "colab": {
          "base_uri": "https://localhost:8080/"
        },
        "id": "qhpoW99R7xvR",
        "outputId": "f86fb752-2cb3-431a-bf6e-73a7d988337d"
      },
      "execution_count": 6,
      "outputs": [
        {
          "output_type": "execute_result",
          "data": {
            "text/plain": [
              "717821450.0"
            ]
          },
          "metadata": {},
          "execution_count": 6
        }
      ]
    },
    {
      "cell_type": "code",
      "source": [
        "#Percentage of increase\n",
        "sales_different = total_sales_2021 - total_sales_2020\n",
        "\n",
        "percentage_increase = (sales_different/total_sales_2020)*100\n",
        "print(sales_different)\n",
        "print(percentage_increase)"
      ],
      "metadata": {
        "colab": {
          "base_uri": "https://localhost:8080/"
        },
        "id": "ZxmKDfSr759q",
        "outputId": "09e9c5a5-cd4b-44be-f059-e26a54921fe0"
      },
      "execution_count": null,
      "outputs": [
        {
          "output_type": "stream",
          "name": "stdout",
          "text": [
            "535740775.0\n",
            "294.2326389112958\n"
          ]
        }
      ]
    },
    {
      "cell_type": "code",
      "source": [
        "categories = [\"2020\", \"2021\"]\n",
        "sales = [total_sales_2020, total_sales_2021]  # Replace with your actual sales data\n",
        "\n",
        "# Create a bar chart\n",
        "plt.bar(categories, sales)\n",
        "\n",
        "# Add labels and title\n",
        "plt.xlabel(\"Year\")\n",
        "plt.ylabel(\"Total Sales\")\n",
        "plt.title(\"Total Sales Comparison between 2020 and 2021\")\n",
        "\n",
        "for i, sale in enumerate(sales):\n",
        "    plt.text(i, sale + 50, f\"${sale:,}\", ha='center', va='bottom', fontsize=10)\n",
        "\n",
        "plt.show()"
      ],
      "metadata": {
        "colab": {
          "base_uri": "https://localhost:8080/",
          "height": 472
        },
        "id": "x_Y407mx-1kb",
        "outputId": "85b24f83-c342-4b26-dd1f-d38920e6aac6"
      },
      "execution_count": null,
      "outputs": [
        {
          "output_type": "display_data",
          "data": {
            "text/plain": [
              "<Figure size 640x480 with 1 Axes>"
            ],
            "image/png": "[encoded data removed]"
          },
          "metadata": {}
        }
      ]
    },
    {
      "cell_type": "markdown",
      "source": [
        "\n",
        "*   Total sales 2020 is 182.080.675 dollars\n",
        "*   Total sales 2021 is 717.821.450 dollars\n",
        "\n",
        "\n",
        "*   => total sale experienced the significant increase from 2020 to 2021 by 294% increase compared to 2020.\n",
        "*  => See the bar chart below:\n",
        "\n",
        "\n",
        "\n"
      ],
      "metadata": {
        "id": "gwCCF67q7vKT"
      }
    },
    {
      "cell_type": "markdown",
      "source": [
        "### MARKET SHARE OF AREA\n",
        "Task: Comparing the Area sales in map and find which is the largest sale area."
      ],
      "metadata": {
        "id": "mtpQ5S7ySoQS"
      }
    },
    {
      "cell_type": "code",
      "source": [
        "#show total order for each region:\n",
        "\n",
        "adidas['Region'].unique()"
      ],
      "metadata": {
        "colab": {
          "base_uri": "https://localhost:8080/"
        },
        "id": "DkW4gIpWpkFW",
        "outputId": "32ee0e50-c122-48b6-859d-f0c1c32ca6ba"
      },
      "execution_count": null,
      "outputs": [
        {
          "output_type": "execute_result",
          "data": {
            "text/plain": [
              "array(['Northeast', 'South', 'West', 'Midwest', 'Southeast'], dtype=object)"
            ]
          },
          "metadata": {},
          "execution_count": 50
        }
      ]
    },
    {
      "cell_type": "code",
      "source": [
        "#Use map to show total order of each region - 2021\n",
        "state_2021 = adidas[adidas[\"Invoice Date\"].dt.year == 2021]\n",
        "\n",
        "state_order_2021 = state_2021[\"State\"].value_counts()\n",
        "\n",
        "state_order_2021\n",
        "\n",
        "\n",
        "\n",
        "\n"
      ],
      "metadata": {
        "colab": {
          "base_uri": "https://localhost:8080/"
        },
        "id": "8G8ok83hp1Tr",
        "outputId": "07e6b02a-97d9-4077-9f69-0ca2e6ab328f"
      },
      "execution_count": 23,
      "outputs": [
        {
          "output_type": "execute_result",
          "data": {
            "text/plain": [
              "California        369\n",
              "Utah              216\n",
              "Vermont           216\n",
              "Massachusetts     216\n",
              "Rhode Island      216\n",
              "Connecticut       216\n",
              "Oklahoma          216\n",
              "Arkansas          216\n",
              "Mississippi       216\n",
              "New Mexico        216\n",
              "Arizona           216\n",
              "Idaho             216\n",
              "Louisiana         216\n",
              "Oregon            216\n",
              "Georgia           216\n",
              "New Hampshire     216\n",
              "Virginia          216\n",
              "Texas             216\n",
              "Florida           216\n",
              "Tennessee         216\n",
              "Alabama           216\n",
              "Pennsylvania      201\n",
              "West Virginia     144\n",
              "Iowa              144\n",
              "Wisconsin         144\n",
              "Indiana           144\n",
              "New Jersey        144\n",
              "Maryland          144\n",
              "Delaware          144\n",
              "South Dakota      144\n",
              "Montana           144\n",
              "North Dakota      144\n",
              "Michigan          144\n",
              "Kansas            144\n",
              "Missouri          144\n",
              "Maine             144\n",
              "Kentucky          144\n",
              "Ohio              144\n",
              "North Carolina    144\n",
              "South Carolina    144\n",
              "Illinois          144\n",
              "Alaska            144\n",
              "Hawaii            144\n",
              "New York          144\n",
              "Wyoming           144\n",
              "Nebraska          144\n",
              "Name: State, dtype: int64"
            ]
          },
          "metadata": {},
          "execution_count": 23
        }
      ]
    },
    {
      "cell_type": "code",
      "source": [],
      "metadata": {
        "id": "5XABEJniyKoy"
      },
      "execution_count": null,
      "outputs": []
    },
    {
      "cell_type": "code",
      "source": [
        "#Calculating the Area Sales as State -2020 by group data and extract data for year of 2020\n",
        "\n",
        "state_sales_2020 = sales_2020.groupby (\"State\")[\"Total Sales\"].sum()\n",
        "state_sales_2020\n",
        "\n",
        "#Calcualte the market share of State:\n",
        "market_share_state20 = (state_sales_2020 / total_sales_2020)*100\n",
        "\n",
        "market_share_state20\n",
        "\n",
        "labels = state_sales_2020.index\n",
        "sizes = market_share_state20\n",
        "plt.pie(sizes, labels = labels, autopct = '%1.1f%%', startangle = 140)\n",
        "\n",
        "\n",
        "plt.title(\"Market share by State in 2020\")\n",
        "plt.show()\n"
      ],
      "metadata": {
        "colab": {
          "base_uri": "https://localhost:8080/",
          "height": 428
        },
        "id": "rmwCpvDES70_",
        "outputId": "78849d4a-d51d-4989-f844-795ef20efcfe"
      },
      "execution_count": 59,
      "outputs": [
        {
          "output_type": "display_data",
          "data": {
            "text/plain": [
              "<Figure size 640x480 with 1 Axes>"
            ],
            "image/png": "[encoded data removed]"
          },
          "metadata": {}
        }
      ]
    },
    {
      "cell_type": "code",
      "source": [
        "#Calculating the Area Sales as State -2021 by group data and extract data for year of 2021. Have to use map because there are alot of state. can't fit in pie chart\n",
        "\n",
        "state_sales_2021 = sales_2021.groupby (\"State\")[\"Total Sales\"].sum()\n",
        "state_sales_2021\n",
        "\n",
        "#Calcualte the market share of State:\n",
        "market_share_state21 = (state_sales_2021 / total_sales_2021)*100\n",
        "\n",
        "market_share_state21\n",
        "\n",
        "#CHƯA NGHĨ RA DÙNG CHART GÌ???/ THUI TIẾP THEO CHỈ PHÂN TÍCH 2021 THÔI. MỎI QUÁ\n",
        "\n",
        "#MAYBE DÙNG CHOROPLETH - MAI TÍNH\n",
        "\n"
      ],
      "metadata": {
        "colab": {
          "base_uri": "https://localhost:8080/"
        },
        "id": "sClS-2_8d19G",
        "outputId": "f97b94c0-7da8-45c8-c2cb-2477ca77f3b1"
      },
      "execution_count": 13,
      "outputs": [
        {
          "output_type": "execute_result",
          "data": {
            "text/plain": [
              "State\n",
              "Alabama           2.456520\n",
              "Alaska            2.055261\n",
              "Arizona           2.198628\n",
              "Arkansas          1.760793\n",
              "California        7.169574\n",
              "Connecticut       1.612302\n",
              "Delaware          1.713297\n",
              "Florida           3.856509\n",
              "Georgia           2.646545\n",
              "Hawaii            3.104178\n",
              "Idaho             2.685470\n",
              "Illinois          1.364892\n",
              "Indiana           1.230974\n",
              "Iowa              1.034242\n",
              "Kansas            1.389324\n",
              "Kentucky          1.403253\n",
              "Louisiana         3.308731\n",
              "Maine             1.281095\n",
              "Maryland          1.080778\n",
              "Massachusetts     1.543115\n",
              "Michigan          2.594717\n",
              "Mississippi       2.172087\n",
              "Missouri          1.348980\n",
              "Montana           2.188690\n",
              "Nebraska          0.825977\n",
              "New Hampshire     2.286316\n",
              "New Jersey        1.383944\n",
              "New Mexico        2.767404\n",
              "New York          3.403047\n",
              "North Carolina    3.337394\n",
              "North Dakota      1.077647\n",
              "Ohio              2.575095\n",
              "Oklahoma          1.479579\n",
              "Oregon            2.974232\n",
              "Pennsylvania      1.310778\n",
              "Rhode Island      1.176728\n",
              "South Carolina    4.079794\n",
              "South Dakota      1.183522\n",
              "Tennessee         2.516982\n",
              "Texas             2.911987\n",
              "Utah              1.350812\n",
              "Vermont           1.999512\n",
              "Virginia          3.005628\n",
              "West Virginia     1.489111\n",
              "Wisconsin         1.076517\n",
              "Wyoming           2.588041\n",
              "Name: Total Sales, dtype: float64"
            ]
          },
          "metadata": {},
          "execution_count": 13
        }
      ]
    },
    {
      "cell_type": "code",
      "source": [
        "#State - level sale"
      ],
      "metadata": {
        "id": "TnXr6JYSR_m4"
      },
      "execution_count": null,
      "outputs": []
    },
    {
      "cell_type": "markdown",
      "source": [
        "### SALES BY RETAILER - 2021\n"
      ],
      "metadata": {
        "id": "Le5lwhK4ifNI"
      }
    },
    {
      "cell_type": "code",
      "source": [
        "#Extracting data 2021:\n",
        "#Group by data following Retailers\n",
        "retailer_sales_2021 = sales_2021.groupby (\"Retailer\")[\"Total Sales\"].sum().sort_values(ascending =False)\n",
        "retailer_sales_2021\n",
        "\n"
      ],
      "metadata": {
        "colab": {
          "base_uri": "https://localhost:8080/"
        },
        "id": "NkFuPjPqimw8",
        "outputId": "35aa96f8-8661-42b4-b0f1-2503aa894e59"
      },
      "execution_count": 19,
      "outputs": [
        {
          "output_type": "execute_result",
          "data": {
            "text/plain": [
              "Retailer\n",
              "Foot Locker      177217915.0\n",
              "Sports Direct    167209896.0\n",
              "West Gear        152665067.0\n",
              "Kohl's           101356250.0\n",
              "Amazon            77698912.0\n",
              "Walmart           41673410.0\n",
              "Name: Total Sales, dtype: float64"
            ]
          },
          "metadata": {},
          "execution_count": 19
        }
      ]
    },
    {
      "cell_type": "code",
      "source": [
        "#Calculate market share\n",
        "market_share_retailer21 = (retailer_sales_2021 / total_sales_2020)*100\n",
        "\n",
        "market_share_retailer21\n",
        "\n",
        "labels = retailer_sales_2021.index\n",
        "sizes = market_share_retailer21\n",
        "plt.pie(sizes, labels = labels, autopct = '%1.1f%%', startangle = 140)\n",
        "\n",
        "\n",
        "plt.title(\"Market share by Retailers in 2021\")\n",
        "plt.show()"
      ],
      "metadata": {
        "colab": {
          "base_uri": "https://localhost:8080/",
          "height": 428
        },
        "id": "_12g-20mrVdC",
        "outputId": "13f27918-b5e6-4489-d643-86eff8b8cd95"
      },
      "execution_count": 16,
      "outputs": [
        {
          "output_type": "display_data",
          "data": {
            "text/plain": [
              "<Figure size 640x480 with 1 Axes>"
            ],
            "image/png": "[encoded data removed]"
          },
          "metadata": {}
        }
      ]
    },
    {
      "cell_type": "code",
      "source": [],
      "metadata": {
        "id": "8it--11BrUZa"
      },
      "execution_count": null,
      "outputs": []
    },
    {
      "cell_type": "code",
      "source": [
        "#Showing total sales of Retailer each month in 2021:\n",
        "#Groupby month\n",
        "monthly_sales = sales_2021.groupby([\"Retailer\", sales_2021[\"Invoice Date\"].dt.month])[\"Total Sales\"].sum().reset_index()\n",
        "\n",
        "#Rename month column:\n",
        "monthly_sales.rename(columns={\"Invoice Date\": \"Month\"}, inplace=True)\n",
        "\n",
        "#Create a line chart using Plotly Express:\n",
        "fig = px.line(monthly_sales, x=\"Month\", y=\"Total Sales\", color=\"Retailer\",\n",
        "              title=\"Monthly Total Sales of Retailer  in 2021\")\n",
        "\n",
        "fig.show()"
      ],
      "metadata": {
        "colab": {
          "base_uri": "https://localhost:8080/",
          "height": 542
        },
        "id": "y-2vx8RulWK0",
        "outputId": "57ec2d86-0eae-41cb-b84b-8271cb373105"
      },
      "execution_count": null,
      "outputs": [
        {
          "output_type": "display_data",
          "data": {
            "text/html": [
              "<html>\n",
              "<head><meta charset=\"utf-8\" /></head>\n",
              "<body>\n",
              "    <div>            <script src=\"https://cdnjs.cloudflare.com/ajax/libs/mathjax/2.7.5/MathJax.js?config=TeX-AMS-MML_SVG\"></script><script type=\"text/javascript\">if (window.MathJax && window.MathJax.Hub && window.MathJax.Hub.Config) {window.MathJax.Hub.Config({SVG: {font: \"STIX-Web\"}});}</script>                <script type=\"text/javascript\">window.PlotlyConfig = {MathJaxConfig: 'local'};</script>\n",
              "        <script charset=\"utf-8\" src=\"https://cdn.plot.ly/plotly-2.24.1.min.js\"></script>                <div id=\"24e429b9-ec37-42df-92d5-6e1ecdc4b3be\" class=\"plotly-graph-div\" style=\"height:525px; width:100%;\"></div>            <script type=\"text/javascript\">                                    window.PLOTLYENV=window.PLOTLYENV || {};                                    if (document.getElementById(\"24e429b9-ec37-42df-92d5-6e1ecdc4b3be\")) {                    Plotly.newPlot(                        \"24e429b9-ec37-42df-92d5-6e1ecdc4b3be\",                        [{\"hovertemplate\":\"Retailer=Amazon\\u003cbr\\u003eMonth=%{x}\\u003cbr\\u003eTotal Sales=%{y}\\u003cextra\\u003e\\u003c\\u002fextra\\u003e\",\"legendgroup\":\"Amazon\",\"line\":{\"color\":\"#636efa\",\"dash\":\"solid\"},\"marker\":{\"symbol\":\"circle\"},\"mode\":\"lines\",\"name\":\"Amazon\",\"orientation\":\"v\",\"showlegend\":true,\"x\":[1,2,3,4,5,6,7,8,9,10,11,12],\"xaxis\":\"x\",\"y\":[3913616.0,4645631.0,4128516.0,3942987.0,6287071.0,7476523.0,8553267.0,7714436.000000001,5774218.0,6553960.0,8992980.0,9715707.0],\"yaxis\":\"y\",\"type\":\"scatter\"},{\"hovertemplate\":\"Retailer=Foot Locker\\u003cbr\\u003eMonth=%{x}\\u003cbr\\u003eTotal Sales=%{y}\\u003cextra\\u003e\\u003c\\u002fextra\\u003e\",\"legendgroup\":\"Foot Locker\",\"line\":{\"color\":\"#EF553B\",\"dash\":\"solid\"},\"marker\":{\"symbol\":\"circle\"},\"mode\":\"lines\",\"name\":\"Foot Locker\",\"orientation\":\"v\",\"showlegend\":true,\"x\":[1,2,3,4,5,6,7,8,9,10,11,12],\"xaxis\":\"x\",\"y\":[10706596.0,9565254.0,8394925.0,8026902.0,12783504.0,22625499.0,25723686.0,17471698.0,8097030.000000001,10529240.0,17158004.0,26135577.0],\"yaxis\":\"y\",\"type\":\"scatter\"},{\"hovertemplate\":\"Retailer=Kohl's\\u003cbr\\u003eMonth=%{x}\\u003cbr\\u003eTotal Sales=%{y}\\u003cextra\\u003e\\u003c\\u002fextra\\u003e\",\"legendgroup\":\"Kohl's\",\"line\":{\"color\":\"#00cc96\",\"dash\":\"solid\"},\"marker\":{\"symbol\":\"circle\"},\"mode\":\"lines\",\"name\":\"Kohl's\",\"orientation\":\"v\",\"showlegend\":true,\"x\":[1,2,3,4,5,6,7,8,9,10,11,12],\"xaxis\":\"x\",\"y\":[9352035.0,10954920.0,9896579.0,12410319.0,17385959.0,5816579.0,6506786.0,6329316.0,4832561.000000001,4540772.000000001,5965890.000000001,7364534.000000001],\"yaxis\":\"y\",\"type\":\"scatter\"},{\"hovertemplate\":\"Retailer=Sports Direct\\u003cbr\\u003eMonth=%{x}\\u003cbr\\u003eTotal Sales=%{y}\\u003cextra\\u003e\\u003c\\u002fextra\\u003e\",\"legendgroup\":\"Sports Direct\",\"line\":{\"color\":\"#ab63fa\",\"dash\":\"solid\"},\"marker\":{\"symbol\":\"circle\"},\"mode\":\"lines\",\"name\":\"Sports Direct\",\"orientation\":\"v\",\"showlegend\":true,\"x\":[1,2,3,4,5,6,7,8,9,10,11,12],\"xaxis\":\"x\",\"y\":[7259584.0,6575131.0,9716212.0,13923203.0,13615085.0,9303956.0,11226098.0,19882086.0,28711985.0,19786297.0,11632868.0,15577391.0],\"yaxis\":\"y\",\"type\":\"scatter\"},{\"hovertemplate\":\"Retailer=Walmart\\u003cbr\\u003eMonth=%{x}\\u003cbr\\u003eTotal Sales=%{y}\\u003cextra\\u003e\\u003c\\u002fextra\\u003e\",\"legendgroup\":\"Walmart\",\"line\":{\"color\":\"#FFA15A\",\"dash\":\"solid\"},\"marker\":{\"symbol\":\"circle\"},\"mode\":\"lines\",\"name\":\"Walmart\",\"orientation\":\"v\",\"showlegend\":true,\"x\":[2,3,4,5,6,7,8,9,10,11,12],\"xaxis\":\"x\",\"y\":[261570.0,466652.0,2082526.0000000002,2730520.0,4860224.0,7710299.0,7513421.0,5070969.000000001,4090237.0000000005,4397854.000000001,2489138.0000000005],\"yaxis\":\"y\",\"type\":\"scatter\"},{\"hovertemplate\":\"Retailer=West Gear\\u003cbr\\u003eMonth=%{x}\\u003cbr\\u003eTotal Sales=%{y}\\u003cextra\\u003e\\u003c\\u002fextra\\u003e\",\"legendgroup\":\"West Gear\",\"line\":{\"color\":\"#19d3f3\",\"dash\":\"solid\"},\"marker\":{\"symbol\":\"circle\"},\"mode\":\"lines\",\"name\":\"West Gear\",\"orientation\":\"v\",\"showlegend\":true,\"x\":[1,2,3,4,5,6,7,8,9,10,11,12],\"xaxis\":\"x\",\"y\":[23993565.0,14099659.000000002,6545648.0,7347027.000000001,10787542.0,15834772.0,18614545.0,13377264.0,6870260.000000001,7574258.000000001,11087444.000000002,16533083.000000002],\"yaxis\":\"y\",\"type\":\"scatter\"}],                        {\"template\":{\"data\":{\"histogram2dcontour\":[{\"type\":\"histogram2dcontour\",\"colorbar\":{\"outlinewidth\":0,\"ticks\":\"\"},\"colorscale\":[[0.0,\"#0d0887\"],[0.1111111111111111,\"#46039f\"],[0.2222222222222222,\"#7201a8\"],[0.3333333333333333,\"#9c179e\"],[0.4444444444444444,\"#bd3786\"],[0.5555555555555556,\"#d8576b\"],[0.6666666666666666,\"#ed7953\"],[0.7777777777777778,\"#fb9f3a\"],[0.8888888888888888,\"#fdca26\"],[1.0,\"#f0f921\"]]}],\"choropleth\":[{\"type\":\"choropleth\",\"colorbar\":{\"outlinewidth\":0,\"ticks\":\"\"}}],\"histogram2d\":[{\"type\":\"histogram2d\",\"colorbar\":{\"outlinewidth\":0,\"ticks\":\"\"},\"colorscale\":[[0.0,\"#0d0887\"],[0.1111111111111111,\"#46039f\"],[0.2222222222222222,\"#7201a8\"],[0.3333333333333333,\"#9c179e\"],[0.4444444444444444,\"#bd3786\"],[0.5555555555555556,\"#d8576b\"],[0.6666666666666666,\"#ed7953\"],[0.7777777777777778,\"#fb9f3a\"],[0.8888888888888888,\"#fdca26\"],[1.0,\"#f0f921\"]]}],\"heatmap\":[{\"type\":\"heatmap\",\"colorbar\":{\"outlinewidth\":0,\"ticks\":\"\"},\"colorscale\":[[0.0,\"#0d0887\"],[0.1111111111111111,\"#46039f\"],[0.2222222222222222,\"#7201a8\"],[0.3333333333333333,\"#9c179e\"],[0.4444444444444444,\"#bd3786\"],[0.5555555555555556,\"#d8576b\"],[0.6666666666666666,\"#ed7953\"],[0.7777777777777778,\"#fb9f3a\"],[0.8888888888888888,\"#fdca26\"],[1.0,\"#f0f921\"]]}],\"heatmapgl\":[{\"type\":\"heatmapgl\",\"colorbar\":{\"outlinewidth\":0,\"ticks\":\"\"},\"colorscale\":[[0.0,\"#0d0887\"],[0.1111111111111111,\"#46039f\"],[0.2222222222222222,\"#7201a8\"],[0.3333333333333333,\"#9c179e\"],[0.4444444444444444,\"#bd3786\"],[0.5555555555555556,\"#d8576b\"],[0.6666666666666666,\"#ed7953\"],[0.7777777777777778,\"#fb9f3a\"],[0.8888888888888888,\"#fdca26\"],[1.0,\"#f0f921\"]]}],\"contourcarpet\":[{\"type\":\"contourcarpet\",\"colorbar\":{\"outlinewidth\":0,\"ticks\":\"\"}}],\"contour\":[{\"type\":\"contour\",\"colorbar\":{\"outlinewidth\":0,\"ticks\":\"\"},\"colorscale\":[[0.0,\"#0d0887\"],[0.1111111111111111,\"#46039f\"],[0.2222222222222222,\"#7201a8\"],[0.3333333333333333,\"#9c179e\"],[0.4444444444444444,\"#bd3786\"],[0.5555555555555556,\"#d8576b\"],[0.6666666666666666,\"#ed7953\"],[0.7777777777777778,\"#fb9f3a\"],[0.8888888888888888,\"#fdca26\"],[1.0,\"#f0f921\"]]}],\"surface\":[{\"type\":\"surface\",\"colorbar\":{\"outlinewidth\":0,\"ticks\":\"\"},\"colorscale\":[[0.0,\"#0d0887\"],[0.1111111111111111,\"#46039f\"],[0.2222222222222222,\"#7201a8\"],[0.3333333333333333,\"#9c179e\"],[0.4444444444444444,\"#bd3786\"],[0.5555555555555556,\"#d8576b\"],[0.6666666666666666,\"#ed7953\"],[0.7777777777777778,\"#fb9f3a\"],[0.8888888888888888,\"#fdca26\"],[1.0,\"#f0f921\"]]}],\"mesh3d\":[{\"type\":\"mesh3d\",\"colorbar\":{\"outlinewidth\":0,\"ticks\":\"\"}}],\"scatter\":[{\"fillpattern\":{\"fillmode\":\"overlay\",\"size\":10,\"solidity\":0.2},\"type\":\"scatter\"}],\"parcoords\":[{\"type\":\"parcoords\",\"line\":{\"colorbar\":{\"outlinewidth\":0,\"ticks\":\"\"}}}],\"scatterpolargl\":[{\"type\":\"scatterpolargl\",\"marker\":{\"colorbar\":{\"outlinewidth\":0,\"ticks\":\"\"}}}],\"bar\":[{\"error_x\":{\"color\":\"#2a3f5f\"},\"error_y\":{\"color\":\"#2a3f5f\"},\"marker\":{\"line\":{\"color\":\"#E5ECF6\",\"width\":0.5},\"pattern\":{\"fillmode\":\"overlay\",\"size\":10,\"solidity\":0.2}},\"type\":\"bar\"}],\"scattergeo\":[{\"type\":\"scattergeo\",\"marker\":{\"colorbar\":{\"outlinewidth\":0,\"ticks\":\"\"}}}],\"scatterpolar\":[{\"type\":\"scatterpolar\",\"marker\":{\"colorbar\":{\"outlinewidth\":0,\"ticks\":\"\"}}}],\"histogram\":[{\"marker\":{\"pattern\":{\"fillmode\":\"overlay\",\"size\":10,\"solidity\":0.2}},\"type\":\"histogram\"}],\"scattergl\":[{\"type\":\"scattergl\",\"marker\":{\"colorbar\":{\"outlinewidth\":0,\"ticks\":\"\"}}}],\"scatter3d\":[{\"type\":\"scatter3d\",\"line\":{\"colorbar\":{\"outlinewidth\":0,\"ticks\":\"\"}},\"marker\":{\"colorbar\":{\"outlinewidth\":0,\"ticks\":\"\"}}}],\"scattermapbox\":[{\"type\":\"scattermapbox\",\"marker\":{\"colorbar\":{\"outlinewidth\":0,\"ticks\":\"\"}}}],\"scatterternary\":[{\"type\":\"scatterternary\",\"marker\":{\"colorbar\":{\"outlinewidth\":0,\"ticks\":\"\"}}}],\"scattercarpet\":[{\"type\":\"scattercarpet\",\"marker\":{\"colorbar\":{\"outlinewidth\":0,\"ticks\":\"\"}}}],\"carpet\":[{\"aaxis\":{\"endlinecolor\":\"#2a3f5f\",\"gridcolor\":\"white\",\"linecolor\":\"white\",\"minorgridcolor\":\"white\",\"startlinecolor\":\"#2a3f5f\"},\"baxis\":{\"endlinecolor\":\"#2a3f5f\",\"gridcolor\":\"white\",\"linecolor\":\"white\",\"minorgridcolor\":\"white\",\"startlinecolor\":\"#2a3f5f\"},\"type\":\"carpet\"}],\"table\":[{\"cells\":{\"fill\":{\"color\":\"#EBF0F8\"},\"line\":{\"color\":\"white\"}},\"header\":{\"fill\":{\"color\":\"#C8D4E3\"},\"line\":{\"color\":\"white\"}},\"type\":\"table\"}],\"barpolar\":[{\"marker\":{\"line\":{\"color\":\"#E5ECF6\",\"width\":0.5},\"pattern\":{\"fillmode\":\"overlay\",\"size\":10,\"solidity\":0.2}},\"type\":\"barpolar\"}],\"pie\":[{\"automargin\":true,\"type\":\"pie\"}]},\"layout\":{\"autotypenumbers\":\"strict\",\"colorway\":[\"#636efa\",\"#EF553B\",\"#00cc96\",\"#ab63fa\",\"#FFA15A\",\"#19d3f3\",\"#FF6692\",\"#B6E880\",\"#FF97FF\",\"#FECB52\"],\"font\":{\"color\":\"#2a3f5f\"},\"hovermode\":\"closest\",\"hoverlabel\":{\"align\":\"left\"},\"paper_bgcolor\":\"white\",\"plot_bgcolor\":\"#E5ECF6\",\"polar\":{\"bgcolor\":\"#E5ECF6\",\"angularaxis\":{\"gridcolor\":\"white\",\"linecolor\":\"white\",\"ticks\":\"\"},\"radialaxis\":{\"gridcolor\":\"white\",\"linecolor\":\"white\",\"ticks\":\"\"}},\"ternary\":{\"bgcolor\":\"#E5ECF6\",\"aaxis\":{\"gridcolor\":\"white\",\"linecolor\":\"white\",\"ticks\":\"\"},\"baxis\":{\"gridcolor\":\"white\",\"linecolor\":\"white\",\"ticks\":\"\"},\"caxis\":{\"gridcolor\":\"white\",\"linecolor\":\"white\",\"ticks\":\"\"}},\"coloraxis\":{\"colorbar\":{\"outlinewidth\":0,\"ticks\":\"\"}},\"colorscale\":{\"sequential\":[[0.0,\"#0d0887\"],[0.1111111111111111,\"#46039f\"],[0.2222222222222222,\"#7201a8\"],[0.3333333333333333,\"#9c179e\"],[0.4444444444444444,\"#bd3786\"],[0.5555555555555556,\"#d8576b\"],[0.6666666666666666,\"#ed7953\"],[0.7777777777777778,\"#fb9f3a\"],[0.8888888888888888,\"#fdca26\"],[1.0,\"#f0f921\"]],\"sequentialminus\":[[0.0,\"#0d0887\"],[0.1111111111111111,\"#46039f\"],[0.2222222222222222,\"#7201a8\"],[0.3333333333333333,\"#9c179e\"],[0.4444444444444444,\"#bd3786\"],[0.5555555555555556,\"#d8576b\"],[0.6666666666666666,\"#ed7953\"],[0.7777777777777778,\"#fb9f3a\"],[0.8888888888888888,\"#fdca26\"],[1.0,\"#f0f921\"]],\"diverging\":[[0,\"#8e0152\"],[0.1,\"#c51b7d\"],[0.2,\"#de77ae\"],[0.3,\"#f1b6da\"],[0.4,\"#fde0ef\"],[0.5,\"#f7f7f7\"],[0.6,\"#e6f5d0\"],[0.7,\"#b8e186\"],[0.8,\"#7fbc41\"],[0.9,\"#4d9221\"],[1,\"#276419\"]]},\"xaxis\":{\"gridcolor\":\"white\",\"linecolor\":\"white\",\"ticks\":\"\",\"title\":{\"standoff\":15},\"zerolinecolor\":\"white\",\"automargin\":true,\"zerolinewidth\":2},\"yaxis\":{\"gridcolor\":\"white\",\"linecolor\":\"white\",\"ticks\":\"\",\"title\":{\"standoff\":15},\"zerolinecolor\":\"white\",\"automargin\":true,\"zerolinewidth\":2},\"scene\":{\"xaxis\":{\"backgroundcolor\":\"#E5ECF6\",\"gridcolor\":\"white\",\"linecolor\":\"white\",\"showbackground\":true,\"ticks\":\"\",\"zerolinecolor\":\"white\",\"gridwidth\":2},\"yaxis\":{\"backgroundcolor\":\"#E5ECF6\",\"gridcolor\":\"white\",\"linecolor\":\"white\",\"showbackground\":true,\"ticks\":\"\",\"zerolinecolor\":\"white\",\"gridwidth\":2},\"zaxis\":{\"backgroundcolor\":\"#E5ECF6\",\"gridcolor\":\"white\",\"linecolor\":\"white\",\"showbackground\":true,\"ticks\":\"\",\"zerolinecolor\":\"white\",\"gridwidth\":2}},\"shapedefaults\":{\"line\":{\"color\":\"#2a3f5f\"}},\"annotationdefaults\":{\"arrowcolor\":\"#2a3f5f\",\"arrowhead\":0,\"arrowwidth\":1},\"geo\":{\"bgcolor\":\"white\",\"landcolor\":\"#E5ECF6\",\"subunitcolor\":\"white\",\"showland\":true,\"showlakes\":true,\"lakecolor\":\"white\"},\"title\":{\"x\":0.05},\"mapbox\":{\"style\":\"light\"}}},\"xaxis\":{\"anchor\":\"y\",\"domain\":[0.0,1.0],\"title\":{\"text\":\"Month\"}},\"yaxis\":{\"anchor\":\"x\",\"domain\":[0.0,1.0],\"title\":{\"text\":\"Total Sales\"}},\"legend\":{\"title\":{\"text\":\"Retailer\"},\"tracegroupgap\":0},\"title\":{\"text\":\"Monthly Total Sales of Retailer  in 2021\"}},                        {\"responsive\": true}                    ).then(function(){\n",
              "                            \n",
              "var gd = document.getElementById('24e429b9-ec37-42df-92d5-6e1ecdc4b3be');\n",
              "var x = new MutationObserver(function (mutations, observer) {{\n",
              "        var display = window.getComputedStyle(gd).display;\n",
              "        if (!display || display === 'none') {{\n",
              "            console.log([gd, 'removed!']);\n",
              "            Plotly.purge(gd);\n",
              "            observer.disconnect();\n",
              "        }}\n",
              "}});\n",
              "\n",
              "// Listen for the removal of the full notebook cells\n",
              "var notebookContainer = gd.closest('#notebook-container');\n",
              "if (notebookContainer) {{\n",
              "    x.observe(notebookContainer, {childList: true});\n",
              "}}\n",
              "\n",
              "// Listen for the clearing of the current output cell\n",
              "var outputEl = gd.closest('.output');\n",
              "if (outputEl) {{\n",
              "    x.observe(outputEl, {childList: true});\n",
              "}}\n",
              "\n",
              "                        })                };                            </script>        </div>\n",
              "</body>\n",
              "</html>"
            ]
          },
          "metadata": {}
        }
      ]
    },
    {
      "cell_type": "markdown",
      "source": [
        "From the charts, we can see Retailer Foot Locker, West Gear, Sport Direct have the highest market share, 24.7%, 23.3% and 21.3% respectively. And Walmart is smalest market share with about 5%"
      ],
      "metadata": {
        "id": "ZnPI2IjBm-Vl"
      }
    },
    {
      "cell_type": "markdown",
      "source": [
        "### PRODUCT ANALYSIS:"
      ],
      "metadata": {
        "id": "Oqpn_XtC0EeA"
      }
    },
    {
      "cell_type": "code",
      "source": [
        "#how many product and nam - 2021\n",
        "product_2021 = adidas[adidas[\"Invoice Date\"].dt.year == 2021]\n",
        "product_sales_2021 = product_2021.groupby(\"Product\")[\"Units Sold\"].sum()\n",
        "product_rev_2021=product_2021.groupby(\"Product\")[\"Total Sales\"].sum()\n",
        "product_sales_2021"
      ],
      "metadata": {
        "colab": {
          "base_uri": "https://localhost:8080/"
        },
        "id": "OWE95uC10KC3",
        "outputId": "9cd6868e-d2fc-45d2-cb78-41c3182f5891"
      },
      "execution_count": 64,
      "outputs": [
        {
          "output_type": "execute_result",
          "data": {
            "text/plain": [
              "Product\n",
              "Men's Apparel                245456\n",
              "Men's Athletic Footwear      353766\n",
              "Men's Street Footwear        494134\n",
              "Women's Apparel              353619\n",
              "Women's Athletic Footwear    253059\n",
              "Women's Street Footwear      316478\n",
              "Name: Units Sold, dtype: int64"
            ]
          },
          "metadata": {},
          "execution_count": 64
        }
      ]
    },
    {
      "cell_type": "code",
      "source": [
        "#Visual product's sale and revenue 2021:\n",
        "plt.figure(figsize=(14,6))\n",
        "#Creating the primary axis for sales:\n",
        "ax1 =plt.gca()\n",
        "ax1.plot(product_sales_2021.index, product_sales_2021.values, linestyle='none', markersize=15, marker='o')\n",
        "ax1.set_xlabel('Product name', fontsize=15)\n",
        "ax1.set_ylabel('Sale Counts', fontsize=15, color='tab:blue')\n",
        "\n",
        "# Creat second axis for revenue:\n",
        "ax2=ax1.twinx()\n",
        "\n",
        "ax2.plot(product_rev_2021.index, product_rev_2021.values, linestyle='none', markersize=8, marker='s', label='Revenue', color='orange')\n",
        "plt.xticks(rotation=90)\n",
        "\n",
        "ax2.set_ylabel('Revenue(Milions Dollars)', fontsize=15, color ='tab:orange')\n",
        "\n",
        "\n",
        "plt.title(\"Product's Sales & Revenue 2021\", fontsize=20)\n",
        "#Adding legend.\n",
        "plt.legend()\n",
        "\n",
        "plt.grid(alpha=0.3)\n",
        "plt.margins(0.05)\n",
        "plt.tight_layout()\n",
        "plt.show()\n"
      ],
      "metadata": {
        "colab": {
          "base_uri": "https://localhost:8080/",
          "height": 607
        },
        "id": "Z7mpbFXJ0o5P",
        "outputId": "a4e884d9-6098-4019-9083-a8cb381679af"
      },
      "execution_count": 62,
      "outputs": [
        {
          "output_type": "display_data",
          "data": {
            "text/plain": [
              "<Figure size 1400x600 with 2 Axes>"
            ],
            "image/png": "[encoded data removed]"
          },
          "metadata": {}
        }
      ]
    },
    {
      "cell_type": "markdown",
      "source": [
        "The most successful product is men's street footwear.\n"
      ],
      "metadata": {
        "id": "8w6Zx-Q99fT8"
      }
    },
    {
      "cell_type": "markdown",
      "source": [
        "### PRODUCT AND RETAILERS"
      ],
      "metadata": {
        "id": "2LPeB5zoSSmI"
      }
    },
    {
      "cell_type": "code",
      "source": [
        "#Creating revenue of each product in each retailer\n",
        "product_rev21 = product_2021.groupby([\"Retailer\",\"Product\"])[\"Total Sales\"].sum()\n",
        "product_rev21\n",
        "#Visual:\n",
        "product_colors = plt.cm.tab20.colors[:len(product_2021[\"Product\"].unique())]\n",
        "plt.figure(figsize=(12,6))\n",
        "\n",
        "ax = product_rev21.unstack(level=1).plot(kind='bar', color=product_colors)\n",
        "\n",
        "plt.title('Total Revenue by product and retailer', fontsize = 20)\n",
        "plt.xlabel(\"Retailer\", fontsize=15)\n",
        "plt.ylabel(\"Total Revenue\", fontsize=15)\n",
        "\n",
        "plt.tight_layout()\n",
        "plt.show()"
      ],
      "metadata": {
        "colab": {
          "base_uri": "https://localhost:8080/",
          "height": 504
        },
        "id": "8PstFusfUuR9",
        "outputId": "2c1ebddc-732c-49a6-cf1e-18bcea3fc9b3"
      },
      "execution_count": 79,
      "outputs": [
        {
          "output_type": "display_data",
          "data": {
            "text/plain": [
              "<Figure size 1200x600 with 0 Axes>"
            ]
          },
          "metadata": {}
        },
        {
          "output_type": "display_data",
          "data": {
            "text/plain": [
              "<Figure size 640x480 with 1 Axes>"
            ],
            "image/png": "[encoded data removed]"
          },
          "metadata": {}
        }
      ]
    }
  ]
}